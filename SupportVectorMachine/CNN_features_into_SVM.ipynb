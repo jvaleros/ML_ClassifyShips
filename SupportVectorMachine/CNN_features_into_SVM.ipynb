{
  "nbformat": 4,
  "nbformat_minor": 0,
  "metadata": {
    "colab": {
      "name": "CNN features into SVM.ipynb",
      "provenance": [],
      "authorship_tag": "ABX9TyM2/8p7ObulK6eJpRP79O3a",
      "include_colab_link": true
    },
    "kernelspec": {
      "name": "python3",
      "display_name": "Python 3"
    }
  },
  "cells": [
    {
      "cell_type": "markdown",
      "metadata": {
        "id": "view-in-github",
        "colab_type": "text"
      },
      "source": [
        "<a href=\"https://colab.research.google.com/github/jvaleros/ML_ClassifyShips/blob/main/CNN_features_into_SVM.ipynb\" target=\"_parent\"><img src=\"https://colab.research.google.com/assets/colab-badge.svg\" alt=\"Open In Colab\"/></a>"
      ]
    },
    {
      "cell_type": "code",
      "metadata": {
        "colab": {
          "base_uri": "https://localhost:8080/"
        },
        "id": "mH1tNc7e_DaA",
        "outputId": "d51c1377-5826-41f1-95e6-d9016f93f62a"
      },
      "source": [
        "import json, itertools, numpy as np, matplotlib.pyplot as plt, pandas as pd\n",
        "\n",
        "from sklearn import svm\n",
        "from sklearn.model_selection import train_test_split\n",
        "from sklearn.metrics import classification_report, accuracy_score\n",
        "\n",
        "from keras.applications.vgg19 import VGG19\n",
        "from keras.preprocessing import image\n",
        "from keras.applications.vgg19 import preprocess_input\n",
        "from keras.models import Model\n",
        "from google.colab import drive\n",
        "\n",
        "drive.mount('/content/drive')\n",
        "file = open('/content/drive/MyDrive/shipsnet.json')\n",
        "data = json.load(file)\n",
        "file.close()"
      ],
      "execution_count": 1,
      "outputs": [
        {
          "output_type": "stream",
          "text": [
            "Mounted at /content/drive\n"
          ],
          "name": "stdout"
        }
      ]
    },
    {
      "cell_type": "code",
      "metadata": {
        "colab": {
          "base_uri": "https://localhost:8080/"
        },
        "id": "B0FFHxdf_GfR",
        "outputId": "76f8ea05-a7ba-4d88-ad68-1afdb89b38c9"
      },
      "source": [
        "base_model = VGG19(weights=\"imagenet\", include_top=False,input_shape=(80,80,3))\n",
        "model = Model(inputs=base_model.input,outputs=base_model.get_layer('block4_pool').output)\n",
        "\n",
        "Shipsnet= pd.DataFrame(data)\n",
        "X = np.asarray(data['data']).astype('uint8')\n",
        "Y = data['labels'] \n",
        "\n",
        "X = X / 255.\n",
        "X = X.reshape([-1, 3, 80, 80]).transpose([0,2,3,1])\n",
        "\n",
        "X_train,X_test,Y_train,Y_test = train_test_split(X,Y,test_size = 0.3)"
      ],
      "execution_count": 2,
      "outputs": [
        {
          "output_type": "stream",
          "text": [
            "Downloading data from https://storage.googleapis.com/tensorflow/keras-applications/vgg19/vgg19_weights_tf_dim_ordering_tf_kernels_notop.h5\n",
            "80142336/80134624 [==============================] - 1s 0us/step\n"
          ],
          "name": "stdout"
        }
      ]
    },
    {
      "cell_type": "code",
      "metadata": {
        "id": "yMJTAaWy_ZIf"
      },
      "source": [
        "#add noise to training data\n",
        "from skimage.util import random_noise\n",
        "X_train = random_noise(X_train, mode='gaussian', var=0.05**2)\n",
        "X_train = (255*X_train).astype(np.uint8)\n"
      ],
      "execution_count": 19,
      "outputs": []
    },
    {
      "cell_type": "code",
      "metadata": {
        "id": "OUv5N1ZG_aGA"
      },
      "source": [
        "featuresTrain = model.predict(X_train)\n",
        "\n",
        "featuresTest = model.predict(X_test)"
      ],
      "execution_count": 20,
      "outputs": []
    },
    {
      "cell_type": "code",
      "metadata": {
        "colab": {
          "base_uri": "https://localhost:8080/"
        },
        "id": "8mJQIGOu_dOq",
        "outputId": "18be1c71-0b5d-4578-99ea-6ecc13ca58b5"
      },
      "source": [
        "featuresTrain = featuresTrain.reshape((featuresTrain.shape[0], 5 * 5 * 512))\n",
        "featuresTest = featuresTest.reshape((featuresTest.shape[0], 5 * 5 * 512))\n",
        "\n",
        "clf1 = svm.SVC()\n",
        "clf1.fit(featuresTrain, Y_train)\n",
        "\n",
        "y_predC1 = clf1.predict(featuresTest)\n",
        "print('Accuracy:' + str(accuracy_score(Y_test, y_predC1)))\n",
        "print('Base Parameters CNN and Noise: ' + classification_report(Y_test, y_predC1))\n",
        "\n",
        "#Changing C .7\n",
        "clf2 = svm.SVC(C=10)\n",
        "clf2.fit(featuresTrain, Y_train)\n",
        "\n",
        "y_predC2 = clf2.predict(featuresTest)\n",
        "print('Accuracy:' + str(accuracy_score(Y_test, y_predC2)))\n",
        "print('Base Parameters CNN and Noise C=.7: ' + classification_report(Y_test, y_predC2))\n",
        "\n",
        "#Changing C .3\n",
        "clf3 = svm.SVC(C=100)\n",
        "clf3.fit(featuresTrain, Y_train)\n",
        "\n",
        "y_predC3 = clf3.predict(featuresTest)\n",
        "print('Accuracy:' + str(accuracy_score(Y_test, y_predC3)))\n",
        "print('Base Parameters CNN and Noise C=.3: ' + classification_report(Y_test, y_predC3))\n"
      ],
      "execution_count": 21,
      "outputs": [
        {
          "output_type": "stream",
          "text": [
            "Accuracy:0.7391666666666666\n",
            "Base Parameters CNN and Noise:               precision    recall  f1-score   support\n",
            "\n",
            "           0       0.74      1.00      0.85       887\n",
            "           1       0.00      0.00      0.00       313\n",
            "\n",
            "    accuracy                           0.74      1200\n",
            "   macro avg       0.37      0.50      0.43      1200\n",
            "weighted avg       0.55      0.74      0.63      1200\n",
            "\n"
          ],
          "name": "stdout"
        },
        {
          "output_type": "stream",
          "text": [
            "/usr/local/lib/python3.6/dist-packages/sklearn/metrics/_classification.py:1272: UndefinedMetricWarning: Precision and F-score are ill-defined and being set to 0.0 in labels with no predicted samples. Use `zero_division` parameter to control this behavior.\n",
            "  _warn_prf(average, modifier, msg_start, len(result))\n"
          ],
          "name": "stderr"
        },
        {
          "output_type": "stream",
          "text": [
            "Accuracy:0.7391666666666666\n",
            "Base Parameters CNN and Noise C=.7:               precision    recall  f1-score   support\n",
            "\n",
            "           0       0.74      1.00      0.85       887\n",
            "           1       0.00      0.00      0.00       313\n",
            "\n",
            "    accuracy                           0.74      1200\n",
            "   macro avg       0.37      0.50      0.43      1200\n",
            "weighted avg       0.55      0.74      0.63      1200\n",
            "\n"
          ],
          "name": "stdout"
        },
        {
          "output_type": "stream",
          "text": [
            "/usr/local/lib/python3.6/dist-packages/sklearn/metrics/_classification.py:1272: UndefinedMetricWarning: Precision and F-score are ill-defined and being set to 0.0 in labels with no predicted samples. Use `zero_division` parameter to control this behavior.\n",
            "  _warn_prf(average, modifier, msg_start, len(result))\n"
          ],
          "name": "stderr"
        },
        {
          "output_type": "stream",
          "text": [
            "Accuracy:0.7391666666666666\n",
            "Base Parameters CNN and Noise C=.3:               precision    recall  f1-score   support\n",
            "\n",
            "           0       0.74      1.00      0.85       887\n",
            "           1       0.00      0.00      0.00       313\n",
            "\n",
            "    accuracy                           0.74      1200\n",
            "   macro avg       0.37      0.50      0.43      1200\n",
            "weighted avg       0.55      0.74      0.63      1200\n",
            "\n"
          ],
          "name": "stdout"
        },
        {
          "output_type": "stream",
          "text": [
            "/usr/local/lib/python3.6/dist-packages/sklearn/metrics/_classification.py:1272: UndefinedMetricWarning: Precision and F-score are ill-defined and being set to 0.0 in labels with no predicted samples. Use `zero_division` parameter to control this behavior.\n",
            "  _warn_prf(average, modifier, msg_start, len(result))\n"
          ],
          "name": "stderr"
        }
      ]
    },
    {
      "cell_type": "code",
      "metadata": {
        "colab": {
          "base_uri": "https://localhost:8080/"
        },
        "id": "SfSk0KtOFjDU",
        "outputId": "ed210b86-8ad5-4323-9c1d-b99ec63229fe"
      },
      "source": [
        "\n",
        "#Changing C .2\n",
        "clf4 = svm.SVC(C=.1)\n",
        "clf4.fit(featuresTrain, Y_train)\n",
        "\n",
        "y_predC4 = clf4.predict(featuresTest)\n",
        "print('Accuracy:' + str(accuracy_score(Y_test, y_predC4)))\n",
        "print('Base Parameters CNN and Noise C=.1: ' + classification_report(Y_test, y_predC4))\n",
        "\n",
        "#Changing kernel 'poly'\n",
        "clf5 = svm.SVC(kernel='poly')\n",
        "clf5.fit(featuresTrain, Y_train)\n",
        "\n",
        "y_predC5 = clf5.predict(featuresTest)\n",
        "print('Accuracy:' + str(accuracy_score(Y_test, y_predC5)))\n",
        "print('Base Parameters CNN and Noise Kernel= poly : ' + classification_report(Y_test, y_predC5))\n",
        "\n",
        "#Changing kernel 'sigmoid'\n",
        "clf6 = svm.SVC(kernel='sigmoid')\n",
        "clf6.fit(featuresTrain, Y_train)\n",
        "\n",
        "y_predC6 = clf6.predict(featuresTest)\n",
        "print('Accuracy:' + str(accuracy_score(Y_test, y_predC6)))\n",
        "print('Base Parameters CNN and Noise Kernel= sigmoid : ' + classification_report(Y_test, y_predC6))\n",
        "\n",
        "#Changing kernel 'linear'\n",
        "clf7 = svm.SVC(kernel='linear')\n",
        "clf7.fit(featuresTrain, Y_train)\n",
        "\n",
        "y_predC7 = clf7.predict(featuresTest)\n",
        "print('Accuracy:' + str(accuracy_score(Y_test, y_predC7)))\n",
        "print('Base Parameters CNN and Noise Kernel= linear : ' + classification_report(Y_test, y_predC7))"
      ],
      "execution_count": 22,
      "outputs": [
        {
          "output_type": "stream",
          "text": [
            "Accuracy:0.7391666666666666\n",
            "Base Parameters CNN and Noise C=.1:               precision    recall  f1-score   support\n",
            "\n",
            "           0       0.74      1.00      0.85       887\n",
            "           1       0.00      0.00      0.00       313\n",
            "\n",
            "    accuracy                           0.74      1200\n",
            "   macro avg       0.37      0.50      0.43      1200\n",
            "weighted avg       0.55      0.74      0.63      1200\n",
            "\n"
          ],
          "name": "stdout"
        },
        {
          "output_type": "stream",
          "text": [
            "/usr/local/lib/python3.6/dist-packages/sklearn/metrics/_classification.py:1272: UndefinedMetricWarning: Precision and F-score are ill-defined and being set to 0.0 in labels with no predicted samples. Use `zero_division` parameter to control this behavior.\n",
            "  _warn_prf(average, modifier, msg_start, len(result))\n"
          ],
          "name": "stderr"
        },
        {
          "output_type": "stream",
          "text": [
            "Accuracy:0.7391666666666666\n",
            "Base Parameters CNN and Noise Kernel= poly :               precision    recall  f1-score   support\n",
            "\n",
            "           0       0.74      1.00      0.85       887\n",
            "           1       0.00      0.00      0.00       313\n",
            "\n",
            "    accuracy                           0.74      1200\n",
            "   macro avg       0.37      0.50      0.43      1200\n",
            "weighted avg       0.55      0.74      0.63      1200\n",
            "\n"
          ],
          "name": "stdout"
        },
        {
          "output_type": "stream",
          "text": [
            "/usr/local/lib/python3.6/dist-packages/sklearn/metrics/_classification.py:1272: UndefinedMetricWarning: Precision and F-score are ill-defined and being set to 0.0 in labels with no predicted samples. Use `zero_division` parameter to control this behavior.\n",
            "  _warn_prf(average, modifier, msg_start, len(result))\n"
          ],
          "name": "stderr"
        },
        {
          "output_type": "stream",
          "text": [
            "Accuracy:0.7391666666666666\n",
            "Base Parameters CNN and Noise Kernel= sigmoid :               precision    recall  f1-score   support\n",
            "\n",
            "           0       0.74      1.00      0.85       887\n",
            "           1       0.00      0.00      0.00       313\n",
            "\n",
            "    accuracy                           0.74      1200\n",
            "   macro avg       0.37      0.50      0.43      1200\n",
            "weighted avg       0.55      0.74      0.63      1200\n",
            "\n"
          ],
          "name": "stdout"
        },
        {
          "output_type": "stream",
          "text": [
            "/usr/local/lib/python3.6/dist-packages/sklearn/metrics/_classification.py:1272: UndefinedMetricWarning: Precision and F-score are ill-defined and being set to 0.0 in labels with no predicted samples. Use `zero_division` parameter to control this behavior.\n",
            "  _warn_prf(average, modifier, msg_start, len(result))\n"
          ],
          "name": "stderr"
        },
        {
          "output_type": "stream",
          "text": [
            "Accuracy:0.7391666666666666\n",
            "Base Parameters CNN and Noise Kernel= linear :               precision    recall  f1-score   support\n",
            "\n",
            "           0       0.74      1.00      0.85       887\n",
            "           1       0.00      0.00      0.00       313\n",
            "\n",
            "    accuracy                           0.74      1200\n",
            "   macro avg       0.37      0.50      0.43      1200\n",
            "weighted avg       0.55      0.74      0.63      1200\n",
            "\n"
          ],
          "name": "stdout"
        },
        {
          "output_type": "stream",
          "text": [
            "/usr/local/lib/python3.6/dist-packages/sklearn/metrics/_classification.py:1272: UndefinedMetricWarning: Precision and F-score are ill-defined and being set to 0.0 in labels with no predicted samples. Use `zero_division` parameter to control this behavior.\n",
            "  _warn_prf(average, modifier, msg_start, len(result))\n"
          ],
          "name": "stderr"
        }
      ]
    }
  ]
}
