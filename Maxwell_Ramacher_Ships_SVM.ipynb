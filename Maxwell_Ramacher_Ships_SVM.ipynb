{
  "nbformat": 4,
  "nbformat_minor": 0,
  "metadata": {
    "colab": {
      "name": "Maxwell_Ramacher_Ships_SVM.ipynb",
      "provenance": [],
      "collapsed_sections": [],
      "authorship_tag": "ABX9TyN1SSh5rn6G+Hw43AqYUDXy",
      "include_colab_link": true
    },
    "kernelspec": {
      "name": "python3",
      "display_name": "Python 3"
    }
  },
  "cells": [
    {
      "cell_type": "markdown",
      "metadata": {
        "id": "view-in-github",
        "colab_type": "text"
      },
      "source": [
        "<a href=\"https://colab.research.google.com/github/jvaleros/ML_ClassifyShips/blob/main/Maxwell_Ramacher_Ships_SVM.ipynb\" target=\"_parent\"><img src=\"https://colab.research.google.com/assets/colab-badge.svg\" alt=\"Open In Colab\"/></a>"
      ]
    },
    {
      "cell_type": "code",
      "metadata": {
        "id": "qrkyS1qnu-BT"
      },
      "source": [
        "import json, itertools, numpy as np, matplotlib.pyplot as plt\n",
        "\n",
        "from sklearn import svm\n",
        "from sklearn.model_selection import train_test_split\n",
        "from sklearn.metrics import classification_report, accuracy_score"
      ],
      "execution_count": 44,
      "outputs": []
    },
    {
      "cell_type": "code",
      "metadata": {
        "id": "Ngg1vaBOvewR"
      },
      "source": [
        "file = open('/content/CS596/shipsnet.json')\n",
        "ShipsJ = json.load(file)\n",
        "file.close()"
      ],
      "execution_count": 45,
      "outputs": []
    },
    {
      "cell_type": "code",
      "metadata": {
        "colab": {
          "base_uri": "https://localhost:8080/"
        },
        "id": "46_sWX_o4CMN",
        "outputId": "f576d10f-7a20-4758-990a-6685a379c92a"
      },
      "source": [
        "ShipsJ.keys()"
      ],
      "execution_count": null,
      "outputs": [
        {
          "output_type": "execute_result",
          "data": {
            "text/plain": [
              "dict_keys(['data', 'labels', 'locations', 'scene_ids'])"
            ]
          },
          "metadata": {
            "tags": []
          },
          "execution_count": 36
        }
      ]
    },
    {
      "cell_type": "code",
      "metadata": {
        "id": "KOn2bSe21mKX"
      },
      "source": [
        "data = np.array(ShipsJ['data']).astype('uint8')\n",
        "labels = np.array(ShipsJ['labels']).astype('uint8')"
      ],
      "execution_count": null,
      "outputs": []
    },
    {
      "cell_type": "code",
      "metadata": {
        "id": "j8CduHfcJBTt"
      },
      "source": [
        "X_train, X_test, y_train, y_test = train_test_split(data, labels, test_size = 0.2, random_state = 596)"
      ],
      "execution_count": null,
      "outputs": []
    },
    {
      "cell_type": "code",
      "metadata": {
        "colab": {
          "base_uri": "https://localhost:8080/"
        },
        "id": "0Ii2BbmgJqOX",
        "outputId": "8943dcd6-cde0-49d0-f0b3-4871855811fd"
      },
      "source": [
        "#SVM\n",
        "clf = svm.SVC()\n",
        "clf.fit(X_train, y_train)"
      ],
      "execution_count": null,
      "outputs": [
        {
          "output_type": "execute_result",
          "data": {
            "text/plain": [
              "SVC(C=1.0, break_ties=False, cache_size=200, class_weight=None, coef0=0.0,\n",
              "    decision_function_shape='ovr', degree=3, gamma='scale', kernel='rbf',\n",
              "    max_iter=-1, probability=False, random_state=None, shrinking=True,\n",
              "    tol=0.001, verbose=False)"
            ]
          },
          "metadata": {
            "tags": []
          },
          "execution_count": 39
        }
      ]
    },
    {
      "cell_type": "code",
      "metadata": {
        "colab": {
          "base_uri": "https://localhost:8080/"
        },
        "id": "0hhXCOylLFVO",
        "outputId": "cca4ccea-bced-4df4-e3df-1097dd2a70ab"
      },
      "source": [
        "#Testing\n",
        "y_pred = clf.predict(X_test)\n",
        "print('Accuracy:' + str(accuracy_score(y_test, y_pred)))\n",
        "print(classification_report(y_test, y_pred))"
      ],
      "execution_count": null,
      "outputs": [
        {
          "output_type": "stream",
          "text": [
            "Accuracy:0.97125\n",
            "              precision    recall  f1-score   support\n",
            "\n",
            "           0       0.97      0.99      0.98       607\n",
            "           1       0.97      0.91      0.94       193\n",
            "\n",
            "    accuracy                           0.97       800\n",
            "   macro avg       0.97      0.95      0.96       800\n",
            "weighted avg       0.97      0.97      0.97       800\n",
            "\n"
          ],
          "name": "stdout"
        }
      ]
    }
  ]
}